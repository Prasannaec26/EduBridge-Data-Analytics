{
 "cells": [
  {
   "cell_type": "markdown",
   "id": "e14044f8",
   "metadata": {},
   "source": [
    "# PYTHON QUIZ GAME"
   ]
  },
  {
   "cell_type": "code",
   "execution_count": 5,
   "id": "b9f3a349",
   "metadata": {},
   "outputs": [
    {
     "name": "stdout",
     "output_type": "stream",
     "text": [
      "WELCOME TO PYTHON QUIZ\n",
      "\n",
      "Are you ready to play the Quiz ?y\n",
      "\n",
      "1) which programming language is easy to learn? \n",
      " ANS:python\n",
      "\n",
      "2) How to print hello World! in python? \n",
      " ANS: print(\"hello world!\")\n",
      "\n",
      "3) which python library is used for data visualization? \n",
      " ANS:matplotlib\n",
      "\n",
      "-> In this quiz game, you attempted 3 questions correctly!\n",
      "-> Marks obtained: 100.0\n",
      "-> Excellent\n"
     ]
    }
   ],
   "source": [
    "print('WELCOME TO PYTHON QUIZ\\n')\n",
    "answer=input('Are you ready to play the Quiz ?')\n",
    "score=0\n",
    "total_questions=3\n",
    " \n",
    "if answer.lower()=='y':\n",
    "    answer=input('\\n1) which programming language is easy to learn? \\n ANS:')\n",
    "    if answer.lower()=='python':\n",
    "        score = score + 1\n",
    "    else:\n",
    "        print('Wrong Answer :(')\n",
    " \n",
    " \n",
    "    answer=input('\\n2) How to print hello World! in python? \\n ANS: ')\n",
    "    if answer.lower()=='print(\"hello world!\")':\n",
    "        score = score + 1\n",
    "    else:\n",
    "        print('Wrong Answer :(')\n",
    " \n",
    "    answer=input('\\n3) which python library is used for data visualization? \\n ANS:')\n",
    "    if answer.lower()=='matplotlib':\n",
    "        score = score + 1\n",
    "    else:\n",
    "        print('Wrong Answer :(')\n",
    "else:\n",
    "    print('Exit')\n",
    " \n",
    "print('\\n-> In this quiz game, you attempted',score,\"questions correctly!\")\n",
    "mark=(score/total_questions)*100\n",
    "print('-> Marks obtained:',mark)\n",
    "if(mark==100):\n",
    "    print(\"-> Excellent\")\n",
    "elif(mark>=60):\n",
    "    print('-> good')\n",
    "elif(mark<=45):\n",
    "    print('-> Betterluck nexttime')"
   ]
  }
 ],
 "metadata": {
  "kernelspec": {
   "display_name": "Python 3 (ipykernel)",
   "language": "python",
   "name": "python3"
  },
  "language_info": {
   "codemirror_mode": {
    "name": "ipython",
    "version": 3
   },
   "file_extension": ".py",
   "mimetype": "text/x-python",
   "name": "python",
   "nbconvert_exporter": "python",
   "pygments_lexer": "ipython3",
   "version": "3.9.7"
  }
 },
 "nbformat": 4,
 "nbformat_minor": 5
}
