{
 "cells": [
  {
   "cell_type": "markdown",
   "id": "7ef21e31",
   "metadata": {},
   "source": [
    "# 1) program to test whether none of the elements in a array is zero."
   ]
  },
  {
   "cell_type": "code",
   "execution_count": 4,
   "id": "969af8ec",
   "metadata": {},
   "outputs": [
    {
     "name": "stdout",
     "output_type": "stream",
     "text": [
      "array 1:\n",
      "[1 2 3 4]\n",
      "Test if none of the elements of the said array is zero:\n",
      "True\n",
      "array 2:\n",
      "[0 1 2 3]\n",
      "Test if none of the elements of the said array is zero:\n",
      "False\n"
     ]
    }
   ],
   "source": [
    "import numpy as np\n",
    "x = np.array([1, 2, 3, 4])\n",
    "print(\"array 1:\")\n",
    "print(x)\n",
    "print(\"Test if none of the elements of the said array is zero:\")\n",
    "print(np.all(x))\n",
    "x = np.array([0, 1, 2, 3])\n",
    "print(\"array 2:\")\n",
    "print(x)\n",
    "print(\"Test if none of the elements of the said array is zero:\")\n",
    "print(np.all(x))\n"
   ]
  },
  {
   "cell_type": "markdown",
   "id": "4887d4f6",
   "metadata": {},
   "source": [
    "# 2) program to test whether any of the elements in a array is non-zero."
   ]
  },
  {
   "cell_type": "code",
   "execution_count": 5,
   "id": "ea8dca75",
   "metadata": {},
   "outputs": [
    {
     "name": "stdout",
     "output_type": "stream",
     "text": [
      "array 1:\n",
      "[1 0 0 0]\n",
      "whether any of the elements in a array is non-zero:\n",
      "True\n",
      "array 2:\n",
      "[0 0 0 0]\n",
      "whether any of the elements in a array is non-zero:\n",
      "False\n"
     ]
    }
   ],
   "source": [
    "x = np.array([1, 0, 0, 0])\n",
    "print(\"array 1:\")\n",
    "print(x)\n",
    "print(\"whether any of the elements in a array is non-zero:\")\n",
    "print(np.any(x))\n",
    "x = np.array([0, 0, 0, 0])\n",
    "print(\"array 2:\")\n",
    "print(x)\n",
    "print(\"whether any of the elements in a array is non-zero:\")\n",
    "print(np.any(x))\n"
   ]
  },
  {
   "cell_type": "markdown",
   "id": "ff4ce648",
   "metadata": {},
   "source": [
    "# 3) Write a program to create an array with the values 1, 7, 13, 105 and determine the size of the memory occupied by the array."
   ]
  },
  {
   "cell_type": "code",
   "execution_count": 12,
   "id": "4b47b226",
   "metadata": {},
   "outputs": [
    {
     "name": "stdout",
     "output_type": "stream",
     "text": [
      "[  1   7  13 105]\n",
      "memory occupied by the array:\n",
      "16 bytes\n"
     ]
    }
   ],
   "source": [
    "X = np.array([1, 7, 13, 105])\n",
    "print(X)\n",
    "print(\"memory occupied by the array:\")\n",
    "print(X.itemsize*x.size,\"bytes\")\n"
   ]
  },
  {
   "cell_type": "markdown",
   "id": "9f975f43",
   "metadata": {},
   "source": [
    "# 4) Write a program to create an array of 10 zeros, 10 ones, 10 fives."
   ]
  },
  {
   "cell_type": "code",
   "execution_count": 41,
   "id": "b0ec1ace",
   "metadata": {},
   "outputs": [
    {
     "name": "stdout",
     "output_type": "stream",
     "text": [
      "[0 0 0 0 0 0 0 0 0 0]\n",
      "[1 1 1 1 1 1 1 1 1 1]\n",
      "[5 5 5 5 5 5 5 5 5 5]\n"
     ]
    }
   ],
   "source": [
    "array1=np.zeros(10)\n",
    "print(array1.astype(int))\n",
    "array2=np.ones(10)\n",
    "print(array2.astype(int))\n",
    "array3=np.ones(10)*5\n",
    "print(array3.astype(int))"
   ]
  },
  {
   "cell_type": "code",
   "execution_count": null,
   "id": "134d7e89",
   "metadata": {},
   "outputs": [],
   "source": []
  }
 ],
 "metadata": {
  "kernelspec": {
   "display_name": "Python 3 (ipykernel)",
   "language": "python",
   "name": "python3"
  },
  "language_info": {
   "codemirror_mode": {
    "name": "ipython",
    "version": 3
   },
   "file_extension": ".py",
   "mimetype": "text/x-python",
   "name": "python",
   "nbconvert_exporter": "python",
   "pygments_lexer": "ipython3",
   "version": "3.9.7"
  }
 },
 "nbformat": 4,
 "nbformat_minor": 5
}
