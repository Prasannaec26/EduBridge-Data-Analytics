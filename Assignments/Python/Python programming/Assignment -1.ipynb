{
 "cells": [
  {
   "cell_type": "markdown",
   "id": "988b124b",
   "metadata": {},
   "source": [
    "# Assignment 1"
   ]
  },
  {
   "cell_type": "markdown",
   "id": "7b7ac063",
   "metadata": {},
   "source": [
    "# Addition"
   ]
  },
  {
   "cell_type": "code",
   "execution_count": 16,
   "id": "8cf0df84",
   "metadata": {},
   "outputs": [
    {
     "name": "stdout",
     "output_type": "stream",
     "text": [
      "enter the number 56\n",
      "enter the number 26\n",
      "82\n"
     ]
    }
   ],
   "source": [
    "x=int(input(\"enter the number \"))\n",
    "y=int(input(\"enter the number \"))\n",
    "sum=x+y\n",
    "print(sum)"
   ]
  },
  {
   "cell_type": "markdown",
   "id": "4058920f",
   "metadata": {},
   "source": [
    "# Subtraction"
   ]
  },
  {
   "cell_type": "code",
   "execution_count": 25,
   "id": "e621eba4",
   "metadata": {},
   "outputs": [
    {
     "name": "stdout",
     "output_type": "stream",
     "text": [
      "enter the number 56\n",
      "enter the number 26\n",
      "30\n"
     ]
    }
   ],
   "source": [
    "x=int(input(\"enter the number \"))\n",
    "y=int(input(\"enter the number \"))\n",
    "sub=x-y\n",
    "print(sub)"
   ]
  },
  {
   "cell_type": "markdown",
   "id": "6053d02f",
   "metadata": {},
   "source": [
    "# multiplication"
   ]
  },
  {
   "cell_type": "code",
   "execution_count": 18,
   "id": "bad32285",
   "metadata": {},
   "outputs": [
    {
     "name": "stdout",
     "output_type": "stream",
     "text": [
      "enter the number 56\n",
      "enter the number 26\n",
      "1456\n"
     ]
    }
   ],
   "source": [
    "x=int(input(\"enter the number \"))\n",
    "y=int(input(\"enter the number \"))\n",
    "mul=x*y\n",
    "print(mul)"
   ]
  },
  {
   "cell_type": "markdown",
   "id": "e66aac61",
   "metadata": {},
   "source": [
    "# Division"
   ]
  },
  {
   "cell_type": "code",
   "execution_count": 19,
   "id": "ef8bdea4",
   "metadata": {},
   "outputs": [
    {
     "name": "stdout",
     "output_type": "stream",
     "text": [
      "enter the number 56\n",
      "enter the number 26\n",
      "2.1538461538461537\n"
     ]
    }
   ],
   "source": [
    "x=int(input(\"enter the number \"))\n",
    "y=int(input(\"enter the number \"))\n",
    "div=x/y\n",
    "print(div)"
   ]
  },
  {
   "cell_type": "markdown",
   "id": "56c77984",
   "metadata": {},
   "source": [
    "# Modulus"
   ]
  },
  {
   "cell_type": "code",
   "execution_count": 20,
   "id": "345f6e1a",
   "metadata": {},
   "outputs": [
    {
     "name": "stdout",
     "output_type": "stream",
     "text": [
      "enter the number 56\n",
      "enter the number 26\n",
      "4\n"
     ]
    }
   ],
   "source": [
    "x=int(input(\"enter the number \"))\n",
    "y=int(input(\"enter the number \"))\n",
    "mod=x%y\n",
    "print(mod)"
   ]
  },
  {
   "cell_type": "markdown",
   "id": "a75344ea",
   "metadata": {},
   "source": [
    "# swap two variable without third variable"
   ]
  },
  {
   "cell_type": "code",
   "execution_count": 21,
   "id": "7adbd332",
   "metadata": {},
   "outputs": [
    {
     "name": "stdout",
     "output_type": "stream",
     "text": [
      "enter the number 56\n",
      "enter the number 26\n",
      "26 56\n"
     ]
    }
   ],
   "source": [
    "x=int(input(\"enter the number \"))\n",
    "y=int(input(\"enter the number \"))\n",
    "x=x*y\n",
    "y=x//y\n",
    "x=x//y\n",
    "print(x,y)"
   ]
  },
  {
   "cell_type": "code",
   "execution_count": 22,
   "id": "c8be1827",
   "metadata": {},
   "outputs": [
    {
     "name": "stdout",
     "output_type": "stream",
     "text": [
      "enter the number56\n",
      "enter the number26\n",
      "26 56\n"
     ]
    }
   ],
   "source": [
    "x=int(input(\"enter the number\"))\n",
    "y=int(input(\"enter the number\"))\n",
    "x=x+y\n",
    "y=x-y\n",
    "x=x-y\n",
    "print(x,y)"
   ]
  },
  {
   "cell_type": "markdown",
   "id": "e72ca2f8",
   "metadata": {},
   "source": [
    "# swap two variable with third variable"
   ]
  },
  {
   "cell_type": "code",
   "execution_count": 23,
   "id": "5389ff4f",
   "metadata": {},
   "outputs": [
    {
     "name": "stdout",
     "output_type": "stream",
     "text": [
      "enter the number56\n",
      "enter the number26\n",
      "26 56\n"
     ]
    }
   ],
   "source": [
    "x=int(input(\"enter the number\"))\n",
    "y=int(input(\"enter the number\"))\n",
    "temp=x\n",
    "x=y\n",
    "y=temp\n",
    "print(x,y)"
   ]
  },
  {
   "cell_type": "markdown",
   "id": "9c2441c8",
   "metadata": {},
   "source": [
    "# Simple interest"
   ]
  },
  {
   "cell_type": "code",
   "execution_count": 29,
   "id": "793d5864",
   "metadata": {},
   "outputs": [
    {
     "name": "stdout",
     "output_type": "stream",
     "text": [
      "enter the number400\n",
      "enter the number2.5\n",
      "enter the number4\n",
      "40.0\n"
     ]
    }
   ],
   "source": [
    "P=float(input(\"enter the number\"))\n",
    "R=float(input(\"enter the number\"))\n",
    "T=float(input(\"enter the number\"))\n",
    "SI=(P*R*T)/100\n",
    "print(SI)"
   ]
  },
  {
   "cell_type": "markdown",
   "id": "b68ff298",
   "metadata": {},
   "source": [
    "# Average of student mark"
   ]
  },
  {
   "cell_type": "code",
   "execution_count": 30,
   "id": "e399d0e2",
   "metadata": {},
   "outputs": [
    {
     "name": "stdout",
     "output_type": "stream",
     "text": [
      "enter the number: 56\n",
      "enter the number: 98\n",
      "enter the number: 78\n",
      "enter the number: 100\n",
      "enter the number: 87\n",
      "83.8\n"
     ]
    }
   ],
   "source": [
    "num1=int(input(\"enter the number: \"))\n",
    "num2=int(input(\"enter the number: \"))\n",
    "num3=int(input(\"enter the number: \"))\n",
    "num4=int(input(\"enter the number: \"))\n",
    "num5=int(input(\"enter the number: \"))\n",
    "average=(num1+num2+num3+num4+num5)/5\n",
    "print(average)"
   ]
  },
  {
   "cell_type": "markdown",
   "id": "6aa8c7ae",
   "metadata": {},
   "source": [
    "# Net salary"
   ]
  },
  {
   "cell_type": "code",
   "execution_count": 33,
   "id": "ab349613",
   "metadata": {},
   "outputs": [
    {
     "name": "stdout",
     "output_type": "stream",
     "text": [
      "Enter Basic Salary :12000\n",
      "12360.0\n"
     ]
    }
   ],
   "source": [
    "basic=float(input(\"Enter Basic Salary :\"))\n",
    "da=float(basic*0.05)\n",
    "hra=float(basic*0.10)\n",
    "pf= float(basic*0.12)\n",
    "netsalary=float(basic+da+hra)-pf\n",
    "print(netsalary)"
   ]
  },
  {
   "cell_type": "markdown",
   "id": "3986eb79",
   "metadata": {},
   "source": [
    "# Area of the shape"
   ]
  },
  {
   "cell_type": "code",
   "execution_count": 35,
   "id": "cea48da1",
   "metadata": {},
   "outputs": [
    {
     "name": "stdout",
     "output_type": "stream",
     "text": [
      "enter the number3.14\n",
      "enter the number5\n",
      "78.5\n"
     ]
    }
   ],
   "source": [
    "PI=float(input(\"enter the number\"))\n",
    "R=float(input(\"enter the number\"))\n",
    "Area_of_a_circle = PI*R*R\n",
    "print(Area_of_a_circle)"
   ]
  },
  {
   "cell_type": "code",
   "execution_count": 36,
   "id": "96e23782",
   "metadata": {},
   "outputs": [
    {
     "name": "stdout",
     "output_type": "stream",
     "text": [
      "enter the number15\n",
      "enter the number7\n",
      "78.5\n"
     ]
    }
   ],
   "source": [
    "L=float(input(\"enter the number\"))\n",
    "B=float(input(\"enter the number\"))\n",
    "Area_of_a_rectangle = L*B\n",
    "print(Area_of_a_rectangle)"
   ]
  },
  {
   "cell_type": "code",
   "execution_count": 38,
   "id": "2d603bcc",
   "metadata": {},
   "outputs": [
    {
     "name": "stdout",
     "output_type": "stream",
     "text": [
      "enter the number6\n",
      "36.0\n"
     ]
    }
   ],
   "source": [
    "S=float(input(\"enter the number\"))\n",
    "Area_of_a_square = S*S\n",
    "print(Area_of_a_square)"
   ]
  },
  {
   "cell_type": "markdown",
   "id": "61270049",
   "metadata": {},
   "source": [
    "# perimeter of the shape"
   ]
  },
  {
   "cell_type": "code",
   "execution_count": 40,
   "id": "8585128c",
   "metadata": {},
   "outputs": [
    {
     "name": "stdout",
     "output_type": "stream",
     "text": [
      "enter the number3.14\n",
      "enter the number5\n",
      "31.400000000000002\n"
     ]
    }
   ],
   "source": [
    "PI=float(input(\"enter the number\"))\n",
    "R=float(input(\"enter the number\"))\n",
    "perimeter_of_a_circle = 2*PI*R\n",
    "print(perimeter_of_a_circle)"
   ]
  },
  {
   "cell_type": "code",
   "execution_count": 41,
   "id": "d4c3daac",
   "metadata": {},
   "outputs": [
    {
     "name": "stdout",
     "output_type": "stream",
     "text": [
      "enter the number15\n",
      "enter the number7\n",
      "44.0\n"
     ]
    }
   ],
   "source": [
    "L=float(input(\"enter the number\"))\n",
    "B=float(input(\"enter the number\"))\n",
    "perimeter_of_a_rectangle = 2*(L+B)\n",
    "print(perimeter_of_a_rectangle)"
   ]
  },
  {
   "cell_type": "code",
   "execution_count": 42,
   "id": "511dbf95",
   "metadata": {},
   "outputs": [
    {
     "name": "stdout",
     "output_type": "stream",
     "text": [
      "enter the number6\n",
      "24.0\n"
     ]
    }
   ],
   "source": [
    "S=float(input(\"enter the number\"))\n",
    "perimeter_of_a_square = 4*S\n",
    "print(perimeter_of_a_square)"
   ]
  }
 ],
 "metadata": {
  "kernelspec": {
   "display_name": "Python 3 (ipykernel)",
   "language": "python",
   "name": "python3"
  },
  "language_info": {
   "codemirror_mode": {
    "name": "ipython",
    "version": 3
   },
   "file_extension": ".py",
   "mimetype": "text/x-python",
   "name": "python",
   "nbconvert_exporter": "python",
   "pygments_lexer": "ipython3",
   "version": "3.9.7"
  }
 },
 "nbformat": 4,
 "nbformat_minor": 5
}
