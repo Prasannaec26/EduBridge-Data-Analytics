{
 "cells": [
  {
   "cell_type": "markdown",
   "id": "4c78cb8f",
   "metadata": {},
   "source": [
    "# sum all the number in the list"
   ]
  },
  {
   "cell_type": "code",
   "execution_count": 4,
   "id": "a2bb7edf",
   "metadata": {},
   "outputs": [],
   "source": [
    "def add(*args):\n",
    "    return sum(args)"
   ]
  },
  {
   "cell_type": "code",
   "execution_count": 5,
   "id": "9b529f1e",
   "metadata": {},
   "outputs": [
    {
     "name": "stdout",
     "output_type": "stream",
     "text": [
      "565\n"
     ]
    }
   ],
   "source": [
    "print(add(111,112,113,114,115))"
   ]
  },
  {
   "cell_type": "markdown",
   "id": "12dd6c1b",
   "metadata": {},
   "source": [
    "# product all the number in the list"
   ]
  },
  {
   "cell_type": "code",
   "execution_count": 1,
   "id": "a9037273",
   "metadata": {},
   "outputs": [
    {
     "name": "stdout",
     "output_type": "stream",
     "text": [
      "enter45\n",
      "enter79\n",
      "enter70\n",
      "79\n"
     ]
    }
   ],
   "source": [
    "def maximum(a, b, c):\n",
    "    list = [a, b, c]\n",
    "    return max(list)\n",
    "\n",
    "a= int(input(\"enter\"))\n",
    "b= int(input(\"enter\"))\n",
    "c= int(input(\"enter\"))\n",
    "print(maximum(a, b, c))"
   ]
  },
  {
   "cell_type": "markdown",
   "id": "07378bc6",
   "metadata": {},
   "source": [
    "# function to multiply all the num in list"
   ]
  },
  {
   "cell_type": "code",
   "execution_count": 8,
   "id": "bb299aa8",
   "metadata": {},
   "outputs": [
    {
     "name": "stdout",
     "output_type": "stream",
     "text": [
      "6\n"
     ]
    }
   ],
   "source": [
    "from functools import reduce\n",
    "list1 = [1, 2, 3]\n",
    "\n",
    " \n",
    "r = reduce((lambda x, y: x * y), list1)\n",
    "print(r\n"
   ]
  },
  {
   "cell_type": "code",
   "execution_count": 9,
   "id": "f25205bb",
   "metadata": {},
   "outputs": [
    {
     "data": {
      "text/plain": [
       "10395"
      ]
     },
     "execution_count": 9,
     "metadata": {},
     "output_type": "execute_result"
    }
   ],
   "source": [
    "from functools import reduce\n",
    "list1=[3,5,7,9,11]\n",
    "def prod(a,b):\n",
    "    return a*b\n",
    "s=reduce(prod,list1)\n",
    "s"
   ]
  },
  {
   "cell_type": "markdown",
   "id": "fbb05274",
   "metadata": {},
   "source": [
    "# write a function to reverse a string"
   ]
  },
  {
   "cell_type": "code",
   "execution_count": 17,
   "id": "6049090b",
   "metadata": {},
   "outputs": [
    {
     "name": "stdout",
     "output_type": "stream",
     "text": [
      "dlrow olleh\n"
     ]
    }
   ],
   "source": [
    "def reverse(a):\n",
    "    a=a[::-1]\n",
    "    return a\n",
    "\n",
    "a = \"hello world\"\n",
    "\n",
    "print(reverse(a))"
   ]
  },
  {
   "cell_type": "markdown",
   "id": "64e864e7",
   "metadata": {},
   "source": [
    "# factor of n numial of n num"
   ]
  },
  {
   "cell_type": "code",
   "execution_count": 1,
   "id": "81115a49",
   "metadata": {},
   "outputs": [
    {
     "name": "stdout",
     "output_type": "stream",
     "text": [
      "enter 6\n",
      "720\n"
     ]
    }
   ],
   "source": [
    "def factorial(n):\n",
    "    \n",
    "        fact = 1\n",
    "        while(n > 1):\n",
    "            fact =fact*n\n",
    "            n =n-1\n",
    "        print(fact)\n",
    " \n",
    "num =  int(input(\"enter \"))\n",
    "factorial(num)"
   ]
  },
  {
   "cell_type": "markdown",
   "id": "b36e4890",
   "metadata": {},
   "source": [
    "# write a functions that takes a list and return a new list with unique element of the list"
   ]
  },
  {
   "cell_type": "code",
   "execution_count": 39,
   "id": "cf5f5afc",
   "metadata": {},
   "outputs": [
    {
     "name": "stdout",
     "output_type": "stream",
     "text": [
      "[10]\n",
      "[10, 20]\n",
      "[10, 20, 30]\n",
      "[10, 20, 30, 40]\n"
     ]
    }
   ],
   "source": [
    "def unique(list1):\n",
    " \n",
    "    uniquelist = []\n",
    "    \n",
    "    for i in list1:\n",
    "        if i not in uniquelist:\n",
    "            uniquelist.append(i)\n",
    "            print(uniquelist)\n",
    "        \n",
    "    \n",
    "\n",
    "list1 = [10, 20, 10, 30, 40, 40]\n",
    "\n",
    "unique(list1)\n"
   ]
  },
  {
   "cell_type": "markdown",
   "id": "da1a5f65",
   "metadata": {},
   "source": [
    "# function that accepts a string and calculate the number of uppercase and lowercase letters"
   ]
  },
  {
   "cell_type": "code",
   "execution_count": 45,
   "id": "762b1554",
   "metadata": {},
   "outputs": [
    {
     "name": "stdout",
     "output_type": "stream",
     "text": [
      "13\n",
      "3\n"
     ]
    }
   ],
   "source": [
    "def string(s):\n",
    "    count1=0\n",
    "    count2=0\n",
    "    for i in s:\n",
    "        if(i.islower()):\n",
    "            count1=count1+1\n",
    "        elif(i.isupper()):\n",
    "            count2=count2+1\n",
    "      \n",
    "    \n",
    "    print (count1)\n",
    "    print (count2)\n",
    "\n",
    "string('The quick Brown Fox')\n"
   ]
  }
 ],
 "metadata": {
  "kernelspec": {
   "display_name": "Python 3 (ipykernel)",
   "language": "python",
   "name": "python3"
  },
  "language_info": {
   "codemirror_mode": {
    "name": "ipython",
    "version": 3
   },
   "file_extension": ".py",
   "mimetype": "text/x-python",
   "name": "python",
   "nbconvert_exporter": "python",
   "pygments_lexer": "ipython3",
   "version": "3.9.7"
  }
 },
 "nbformat": 4,
 "nbformat_minor": 5
}
