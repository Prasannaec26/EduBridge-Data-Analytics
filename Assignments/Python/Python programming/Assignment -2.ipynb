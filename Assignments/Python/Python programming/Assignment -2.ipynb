{
 "cells": [
  {
   "cell_type": "markdown",
   "id": "db406213",
   "metadata": {},
   "source": [
    "# ASSIGNMENT "
   ]
  },
  {
   "cell_type": "markdown",
   "id": "32ac5a03",
   "metadata": {},
   "source": [
    "# Leap year"
   ]
  },
  {
   "cell_type": "code",
   "execution_count": 1,
   "id": "723e4db2",
   "metadata": {},
   "outputs": [
    {
     "name": "stdout",
     "output_type": "stream",
     "text": [
      "enter the number2022\n",
      "not a leap year\n"
     ]
    }
   ],
   "source": [
    "a=int(input(\"enter the number\"))\n",
    "if a%4==0 and a%100==0:\n",
    "    print(\"leap year\")\n",
    "else:\n",
    "    print(\"not a leap year\")"
   ]
  },
  {
   "cell_type": "markdown",
   "id": "8a4af4e2",
   "metadata": {},
   "source": [
    "# Day program"
   ]
  },
  {
   "cell_type": "code",
   "execution_count": 2,
   "id": "aac5187a",
   "metadata": {},
   "outputs": [
    {
     "name": "stdout",
     "output_type": "stream",
     "text": [
      "Enter weekday day number : 5\n",
      "Friday\n"
     ]
    }
   ],
   "source": [
    "weekday = int(input(\"Enter weekday day number : \"))\n",
    "\n",
    "if weekday == 1 :\n",
    "    print(\"Monday\")\n",
    "\n",
    "elif weekday == 2 :\n",
    "    print(\"Tuesday\")\n",
    "\n",
    "elif(weekday == 3) :\n",
    "    print(\"Wednesday\")\n",
    "\n",
    "elif(weekday == 4) :\n",
    "    print(\"Thursday\")\n",
    "\n",
    "elif(weekday == 5) :\n",
    "    print(\"Friday\")\n",
    "\n",
    "elif(weekday == 6) :\n",
    "    print(\"Saturday\")\n",
    "\n",
    "elif (weekday == 7) :\n",
    "    print(\"Sunday\")\n",
    "\n",
    "else :\n",
    "    print(\"Please enter weekday number between 1-7.\")"
   ]
  },
  {
   "cell_type": "markdown",
   "id": "fde9a4f7",
   "metadata": {},
   "source": [
    "# GRADE"
   ]
  },
  {
   "cell_type": "code",
   "execution_count": 3,
   "id": "8322f0f0",
   "metadata": {},
   "outputs": [
    {
     "name": "stdout",
     "output_type": "stream",
     "text": [
      "Enter Mark: 45\n",
      "Enter Mark: 89\n",
      "Enter Mark: 97\n",
      "Enter Mark: 72\n",
      "Enter Mark: 68\n",
      "Your Grade is C\n"
     ]
    }
   ],
   "source": [
    "mark1 = int(input(\"Enter Mark: \"))\n",
    "mark2 = int(input(\"Enter Mark: \"))\n",
    "mark3 = int(input(\"Enter Mark: \"))\n",
    "mark4 = int(input(\"Enter Mark: \"))\n",
    "mark5 = int(input(\"Enter Mark: \"))\n",
    "\n",
    "\n",
    "tot = mark1+mark2+mark3+mark4+mark5\n",
    "avg = tot/5\n",
    "\n",
    "if avg>90:\n",
    "    print(\"Your Grade is A\")\n",
    "elif avg>75:\n",
    "    print(\"Your Grade is B\")\n",
    "elif avg>65:\n",
    "    print(\"Your Grade is C\")\n",
    "elif avg>50:\n",
    "    print(\"Your Grade is D\")\n",
    "else:\n",
    "    print(\"Fail!\")\n"
   ]
  },
  {
   "cell_type": "markdown",
   "id": "acd0576a",
   "metadata": {},
   "source": [
    "# ascending 3 num"
   ]
  },
  {
   "cell_type": "code",
   "execution_count": 12,
   "id": "40d91916",
   "metadata": {},
   "outputs": [
    {
     "name": "stdout",
     "output_type": "stream",
     "text": [
      "Enter First number : 35\n",
      "Enter Second number : 56\n",
      "Enter Third number : 98\n",
      "Numbers in ascending order are :  35 56 98\n"
     ]
    }
   ],
   "source": [
    "um1=int(input(\"Enter First number : \"))\n",
    "num2=int(input(\"Enter Second number : \"))\n",
    "num3=int(input(\"Enter Third number : \"))\n",
    "if num1<num2 and num1<num3:\n",
    "    if num2<num3:\n",
    "        x,y,z=num1,num2,num3\n",
    "    else:\n",
    "        x,y,z=num1,num3,num2\n",
    "elif num2<num1 and num2<num3:\n",
    "    if num1<num3:\n",
    "        x,y,z=num2,num1,num3\n",
    "    else:\n",
    "        x,y,z=num2,num3,num1\n",
    "else:\n",
    "    if num1<num2:\n",
    "        x,y,z=num3,num1,num2\n",
    "    else:\n",
    "        x,y,z=num3,num2,num1\n",
    "print(\"Numbers in ascending order are : \",x,y,z)\n"
   ]
  },
  {
   "cell_type": "markdown",
   "id": "ad75999a",
   "metadata": {},
   "source": [
    "# Month program"
   ]
  },
  {
   "cell_type": "code",
   "execution_count": 5,
   "id": "e2d89209",
   "metadata": {},
   "outputs": [
    {
     "name": "stdout",
     "output_type": "stream",
     "text": [
      "Enter Month number : 10\n",
      "OCT\n"
     ]
    }
   ],
   "source": [
    "Month = int(input(\"Enter Month number : \"))\n",
    "\n",
    "if (Month == 1) :\n",
    "    print(\"JAN\")\n",
    "\n",
    "elif (Month == 2) :\n",
    "    print(\"FEB\")\n",
    "\n",
    "elif(Month == 3) :\n",
    "    print(\"MAR\")\n",
    "\n",
    "elif(Month == 4) :\n",
    "    print(\"APR\")\n",
    "\n",
    "elif(Month == 5) :\n",
    "    print(\"MAY\")\n",
    "\n",
    "elif(Month == 6) :\n",
    "    print(\"JUNE\")\n",
    "\n",
    "elif (Month == 7) :\n",
    "    print(\"JULY\")\n",
    "\n",
    "elif (Month == 8) :\n",
    "    print(\"AUG\")\n",
    "    \n",
    "elif (Month == 9) :\n",
    "    print(\"SEP\")\n",
    "    \n",
    "elif (Month == 10) :\n",
    "    print(\"OCT\")\n",
    "    \n",
    "elif (Month == 11) :\n",
    "    print(\"NOV\")\n",
    "    \n",
    "elif (Month == 12) :\n",
    "    print(\"DEC\")\n",
    "\n",
    "else :\n",
    "    print(\"Please enter Month between 1-12.\")"
   ]
  },
  {
   "cell_type": "markdown",
   "id": "611ee30d",
   "metadata": {},
   "source": [
    "# greatest of 3 num"
   ]
  },
  {
   "cell_type": "code",
   "execution_count": 8,
   "id": "dbcd7b85",
   "metadata": {},
   "outputs": [
    {
     "name": "stdout",
     "output_type": "stream",
     "text": [
      "Enter num: 35\n",
      "Enter num: 45\n",
      "Enter num: 87\n",
      "The greatest number is: 87\n"
     ]
    }
   ],
   "source": [
    "num1 = int(input(\"Enter num: \"))\n",
    "num2 = int(input(\"Enter num: \"))\n",
    "num3 = int(input(\"Enter num: \"))\n",
    "if (num1 >= num2) and (num1 >= num3):\n",
    " greatest = num1\n",
    "elif (num2 >= num1) and (num2 >= num3):\n",
    " greatest = num2\n",
    "else:\n",
    " greatest = num3\n",
    "print(\"The greatest number is:\",greatest )"
   ]
  },
  {
   "cell_type": "markdown",
   "id": "cdd43d88",
   "metadata": {},
   "source": [
    "# smallest of 3 num"
   ]
  },
  {
   "cell_type": "code",
   "execution_count": 10,
   "id": "87f50fac",
   "metadata": {},
   "outputs": [
    {
     "name": "stdout",
     "output_type": "stream",
     "text": [
      "Enter num: 35\n",
      "Enter num: 45\n",
      "Enter num: 87\n",
      "The smallest number is: 35\n"
     ]
    }
   ],
   "source": [
    "num1 = int(input(\"Enter num: \"))\n",
    "num2 = int(input(\"Enter num: \"))\n",
    "num3 = int(input(\"Enter num: \"))\n",
    "if (num1 <= num2) and (num1 <= num3):\n",
    " smallest = num1\n",
    "elif (num2 <= num1) and (num2 <= num3):\n",
    " smallest = num2\n",
    "else:\n",
    " smallest = num3\n",
    "print(\"The smallest number is:\",smallest )"
   ]
  },
  {
   "cell_type": "markdown",
   "id": "66edc2ce",
   "metadata": {},
   "source": [
    "# calculator "
   ]
  },
  {
   "cell_type": "code",
   "execution_count": 13,
   "id": "b14563bf",
   "metadata": {},
   "outputs": [
    {
     "name": "stdout",
     "output_type": "stream",
     "text": [
      "Select operation.\n",
      "1.Add\n",
      "2.Subtract\n",
      "3.Multiply\n",
      "4.Divide\n",
      "Enter choice(1/2/3/4): 1\n",
      "Enter first number: 3\n",
      "Enter second number: 5\n",
      "3.0 + 5.0 = 8.0\n",
      "Let's do next calculation? (yes/no): no\n"
     ]
    }
   ],
   "source": [
    "def add(x, y):\n",
    "    return x + y\n",
    "\n",
    "def subtract(x, y):\n",
    "    return x - y\n",
    "\n",
    "def multiply(x, y):\n",
    "    return x * y\n",
    "\n",
    "def divide(x, y):\n",
    "    return x / y\n",
    "\n",
    "\n",
    "print(\"Select operation.\")\n",
    "print(\"1.Add\")\n",
    "print(\"2.Subtract\")\n",
    "print(\"3.Multiply\")\n",
    "print(\"4.Divide\")\n",
    "\n",
    "while True:\n",
    "    choice = input(\"Enter choice(1/2/3/4): \")\n",
    "    if choice in ('1', '2', '3', '4'):\n",
    "        num1 = float(input(\"Enter first number: \"))\n",
    "        num2 = float(input(\"Enter second number: \"))\n",
    "\n",
    "        if choice == '1':\n",
    "            print(num1, \"+\", num2, \"=\", add(num1, num2))\n",
    "\n",
    "        elif choice == '2':\n",
    "            print(num1, \"-\", num2, \"=\", subtract(num1, num2))\n",
    "\n",
    "        elif choice == '3':\n",
    "            print(num1, \"*\", num2, \"=\", multiply(num1, num2))\n",
    "\n",
    "        elif choice == '4':\n",
    "            print(num1, \"/\", num2, \"=\", divide(num1, num2))\n",
    "        \n",
    "       \n",
    "        next_calculation = input(\"Let's do next calculation? (yes/no): \")\n",
    "        if next_calculation == \"no\":\n",
    "          break\n",
    "    \n",
    "    else:\n",
    "        print(\"Invalid Input\")"
   ]
  },
  {
   "cell_type": "code",
   "execution_count": null,
   "id": "346f0d8f",
   "metadata": {},
   "outputs": [],
   "source": []
  }
 ],
 "metadata": {
  "kernelspec": {
   "display_name": "Python 3 (ipykernel)",
   "language": "python",
   "name": "python3"
  },
  "language_info": {
   "codemirror_mode": {
    "name": "ipython",
    "version": 3
   },
   "file_extension": ".py",
   "mimetype": "text/x-python",
   "name": "python",
   "nbconvert_exporter": "python",
   "pygments_lexer": "ipython3",
   "version": "3.9.7"
  }
 },
 "nbformat": 4,
 "nbformat_minor": 5
}
