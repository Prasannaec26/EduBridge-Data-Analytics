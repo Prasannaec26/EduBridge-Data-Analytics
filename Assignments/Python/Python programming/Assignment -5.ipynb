{
 "cells": [
  {
   "cell_type": "markdown",
   "id": "fb446b90",
   "metadata": {},
   "source": [
    "# first character in string"
   ]
  },
  {
   "cell_type": "code",
   "execution_count": 10,
   "id": "73602b90",
   "metadata": {},
   "outputs": [],
   "source": [
    "msg='python world'"
   ]
  },
  {
   "cell_type": "code",
   "execution_count": 11,
   "id": "97710873",
   "metadata": {},
   "outputs": [
    {
     "data": {
      "text/plain": [
       "'p'"
      ]
     },
     "execution_count": 11,
     "metadata": {},
     "output_type": "execute_result"
    }
   ],
   "source": [
    "msg[0]"
   ]
  },
  {
   "cell_type": "markdown",
   "id": "36a53731",
   "metadata": {},
   "source": [
    "# last character in string using len function"
   ]
  },
  {
   "cell_type": "code",
   "execution_count": 12,
   "id": "f2ed69ed",
   "metadata": {},
   "outputs": [
    {
     "data": {
      "text/plain": [
       "1"
      ]
     },
     "execution_count": 12,
     "metadata": {},
     "output_type": "execute_result"
    }
   ],
   "source": [
    "len(msg[-1])"
   ]
  },
  {
   "cell_type": "markdown",
   "id": "7c1f2def",
   "metadata": {},
   "source": [
    "# last character in string"
   ]
  },
  {
   "cell_type": "code",
   "execution_count": 13,
   "id": "31301d6c",
   "metadata": {},
   "outputs": [
    {
     "data": {
      "text/plain": [
       "'d'"
      ]
     },
     "execution_count": 13,
     "metadata": {},
     "output_type": "execute_result"
    }
   ],
   "source": [
    "msg[-1]"
   ]
  },
  {
   "cell_type": "markdown",
   "id": "b7b6ec98",
   "metadata": {},
   "source": [
    "# fetch the 7th element of the string"
   ]
  },
  {
   "cell_type": "code",
   "execution_count": 31,
   "id": "7a8d7bc2",
   "metadata": {},
   "outputs": [
    {
     "data": {
      "text/plain": [
       "'w'"
      ]
     },
     "execution_count": 31,
     "metadata": {},
     "output_type": "execute_result"
    }
   ],
   "source": [
    "msg[7]"
   ]
  },
  {
   "cell_type": "markdown",
   "id": "99491b9b",
   "metadata": {},
   "source": [
    "#  fetch all characters from 0 to 5 index location excluding the character at loc 5."
   ]
  },
  {
   "cell_type": "code",
   "execution_count": 15,
   "id": "37940648",
   "metadata": {},
   "outputs": [
    {
     "data": {
      "text/plain": [
       "'pytho'"
      ]
     },
     "execution_count": 15,
     "metadata": {},
     "output_type": "execute_result"
    }
   ],
   "source": [
    "msg[0:5]"
   ]
  },
  {
   "cell_type": "markdown",
   "id": "b6126220",
   "metadata": {},
   "source": [
    "# retrieve all characters between 6 -12 index ecluding loc 12."
   ]
  },
  {
   "cell_type": "code",
   "execution_count": 16,
   "id": "a25709a1",
   "metadata": {},
   "outputs": [
    {
     "data": {
      "text/plain": [
       "' world'"
      ]
     },
     "execution_count": 16,
     "metadata": {},
     "output_type": "execute_result"
    }
   ],
   "source": [
    "msg[6:12]"
   ]
  },
  {
   "cell_type": "code",
   "execution_count": 19,
   "id": "1f0e2a56",
   "metadata": {},
   "outputs": [
    {
     "data": {
      "text/plain": [
       "'python world'"
      ]
     },
     "execution_count": 19,
     "metadata": {},
     "output_type": "execute_result"
    }
   ],
   "source": [
    "msg"
   ]
  },
  {
   "cell_type": "markdown",
   "id": "3d3c0bbe",
   "metadata": {},
   "source": [
    "# .retrieve last four characters of the string\n"
   ]
  },
  {
   "cell_type": "code",
   "execution_count": 20,
   "id": "1daa76d5",
   "metadata": {},
   "outputs": [
    {
     "data": {
      "text/plain": [
       "'orld'"
      ]
     },
     "execution_count": 20,
     "metadata": {},
     "output_type": "execute_result"
    }
   ],
   "source": [
    "msg[-4:]"
   ]
  },
  {
   "cell_type": "markdown",
   "id": "b5f9fe17",
   "metadata": {},
   "source": [
    "# retrieve last six characters of the string\n"
   ]
  },
  {
   "cell_type": "code",
   "execution_count": 22,
   "id": "6ba671e9",
   "metadata": {},
   "outputs": [
    {
     "data": {
      "text/plain": [
       "' world'"
      ]
     },
     "execution_count": 22,
     "metadata": {},
     "output_type": "execute_result"
    }
   ],
   "source": [
    "msg[-6:]"
   ]
  },
  {
   "cell_type": "markdown",
   "id": "e1e2c157",
   "metadata": {},
   "source": [
    "# retrieve first four characters of the string"
   ]
  },
  {
   "cell_type": "code",
   "execution_count": 23,
   "id": "009ffa87",
   "metadata": {
    "scrolled": true
   },
   "outputs": [
    {
     "data": {
      "text/plain": [
       "'pyth'"
      ]
     },
     "execution_count": 23,
     "metadata": {},
     "output_type": "execute_result"
    }
   ],
   "source": [
    "msg[0:4]"
   ]
  },
  {
   "cell_type": "code",
   "execution_count": 28,
   "id": "a8e040a5",
   "metadata": {},
   "outputs": [
    {
     "data": {
      "text/plain": [
       "7"
      ]
     },
     "execution_count": 28,
     "metadata": {},
     "output_type": "execute_result"
    }
   ],
   "source": [
    "msg.find('world')"
   ]
  },
  {
   "cell_type": "code",
   "execution_count": 30,
   "id": "54d8b15f",
   "metadata": {},
   "outputs": [
    {
     "data": {
      "text/plain": [
       "11"
      ]
     },
     "execution_count": 30,
     "metadata": {},
     "output_type": "execute_result"
    }
   ],
   "source": [
    "msg.find('d')"
   ]
  },
  {
   "cell_type": "markdown",
   "id": "6e7be8e8",
   "metadata": {},
   "source": [
    "# add a key to a dictionary"
   ]
  },
  {
   "cell_type": "code",
   "execution_count": 38,
   "id": "f8f237bc",
   "metadata": {},
   "outputs": [],
   "source": [
    "d={\"one\":10,\"two\":20,\"three\":30}"
   ]
  },
  {
   "cell_type": "code",
   "execution_count": 39,
   "id": "8b24931a",
   "metadata": {},
   "outputs": [
    {
     "data": {
      "text/plain": [
       "{'one': 10, 'two': 20, 'three': 30, 'four': 40, 'five': 50}"
      ]
     },
     "execution_count": 39,
     "metadata": {},
     "output_type": "execute_result"
    }
   ],
   "source": [
    "du={\"four\":40,\"five\":50}\n",
    "d.update(du)\n",
    "d"
   ]
  },
  {
   "cell_type": "code",
   "execution_count": 40,
   "id": "ceb2ee43",
   "metadata": {},
   "outputs": [
    {
     "data": {
      "text/plain": [
       "{'one': 10, 'two': 20, 'three': 30, 'four': 40, 'five': 50}"
      ]
     },
     "execution_count": 40,
     "metadata": {},
     "output_type": "execute_result"
    }
   ],
   "source": [
    "d"
   ]
  },
  {
   "cell_type": "markdown",
   "id": "7ff0d0a2",
   "metadata": {},
   "source": [
    "# sort a dictionary by value"
   ]
  },
  {
   "cell_type": "code",
   "execution_count": 41,
   "id": "615e25a9",
   "metadata": {},
   "outputs": [
    {
     "data": {
      "text/plain": [
       "{'one': 10, 'two': 20, 'three': 30, 'four': 40, 'five': 50}"
      ]
     },
     "execution_count": 41,
     "metadata": {},
     "output_type": "execute_result"
    }
   ],
   "source": [
    "d"
   ]
  },
  {
   "cell_type": "code",
   "execution_count": 43,
   "id": "4932ea14",
   "metadata": {},
   "outputs": [
    {
     "data": {
      "text/plain": [
       "dict_values([10, 20, 30, 40, 50])"
      ]
     },
     "execution_count": 43,
     "metadata": {},
     "output_type": "execute_result"
    }
   ],
   "source": [
    "d.values()"
   ]
  },
  {
   "cell_type": "code",
   "execution_count": 58,
   "id": "b259e4cb",
   "metadata": {},
   "outputs": [
    {
     "data": {
      "text/plain": [
       "[10, 20, 30, 40, 50]"
      ]
     },
     "execution_count": 58,
     "metadata": {},
     "output_type": "execute_result"
    }
   ],
   "source": [
    "d={'one': 20, 'two': 50, 'three': 10, 'four': 30, 'five': 40}\n",
    "sorted(d.values())"
   ]
  },
  {
   "cell_type": "code",
   "execution_count": 59,
   "id": "88f1ea50",
   "metadata": {},
   "outputs": [
    {
     "data": {
      "text/plain": [
       "['five', 'four', 'one', 'three', 'two']"
      ]
     },
     "execution_count": 59,
     "metadata": {},
     "output_type": "execute_result"
    }
   ],
   "source": [
    "d={'one': 20, 'two': 50, 'three': 10, 'four': 30, 'five': 40}\n",
    "sorted(d.keys())"
   ]
  }
 ],
 "metadata": {
  "kernelspec": {
   "display_name": "Python 3 (ipykernel)",
   "language": "python",
   "name": "python3"
  },
  "language_info": {
   "codemirror_mode": {
    "name": "ipython",
    "version": 3
   },
   "file_extension": ".py",
   "mimetype": "text/x-python",
   "name": "python",
   "nbconvert_exporter": "python",
   "pygments_lexer": "ipython3",
   "version": "3.9.7"
  }
 },
 "nbformat": 4,
 "nbformat_minor": 5
}
