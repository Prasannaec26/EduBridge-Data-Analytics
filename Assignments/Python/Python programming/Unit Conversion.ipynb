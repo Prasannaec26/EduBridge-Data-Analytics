{
 "cells": [
  {
   "cell_type": "markdown",
   "id": "bca17101",
   "metadata": {},
   "source": [
    "# Kilometer to miles"
   ]
  },
  {
   "cell_type": "code",
   "execution_count": 3,
   "id": "5a323657",
   "metadata": {},
   "outputs": [],
   "source": [
    "from tkinter import *\n",
    "\n",
    "def convert():\n",
    "    res=int(e1.get())*0.621371\n",
    "    myText.set(res)\n",
    "        \n",
    "    \n",
    "window=Tk()\n",
    "myText=StringVar()\n",
    "window.title(\"Unit Conversion\")\n",
    "Label(window,text=\"Kilometer\").place(x=20,y=30)\n",
    "Label(window,text=\"miles\").place(x=20,y=80)\n",
    "\n",
    "result=Entry(window, text=\"\", textvariable=myText).place(x=80,y=80)\n",
    "\n",
    "\n",
    "e1=Entry(window)\n",
    "\n",
    "\n",
    "e1.place(x=80,y=30)\n",
    "\n",
    "\n",
    "b=Button(window,text=\"convert\",command=convert).place(x=60,y=130)\n",
    "\n",
    "\n",
    "window.mainloop()"
   ]
  },
  {
   "cell_type": "markdown",
   "id": "b79df139",
   "metadata": {},
   "source": [
    "# Kilometer to meter"
   ]
  },
  {
   "cell_type": "code",
   "execution_count": 2,
   "id": "b11db538",
   "metadata": {},
   "outputs": [],
   "source": [
    "from tkinter import *\n",
    "\n",
    "def convert():\n",
    "    res=int(e1.get())*1000\n",
    "    myText.set(res)\n",
    "        \n",
    "\n",
    "    \n",
    "    \n",
    "window=Tk()\n",
    "myText=StringVar()\n",
    "window.title(\"Unit Conversion\")\n",
    "Label(window,text=\"Kilometer\").place(x=20,y=30)\n",
    "Label(window,text=\"meter\").place(x=20,y=80)\n",
    "\n",
    "result=Entry(window, text=\"\", textvariable=myText).place(x=80,y=80)\n",
    "\n",
    "\n",
    "e1=Entry(window)\n",
    "\n",
    "\n",
    "e1.place(x=80,y=30)\n",
    "\n",
    "\n",
    "b=Button(window,text=\"convert\",command=convert).place(x=60,y=130)\n",
    "\n",
    "\n",
    "window.mainloop()"
   ]
  },
  {
   "cell_type": "markdown",
   "id": "0d9a5669",
   "metadata": {},
   "source": [
    "# Multi Converter"
   ]
  },
  {
   "cell_type": "code",
   "execution_count": 7,
   "id": "b1e5b730",
   "metadata": {},
   "outputs": [],
   "source": [
    "from tkinter import *\n",
    "\n",
    "def miles():\n",
    "    res=int(e1.get())*0.621371\n",
    "    myText.set(res)\n",
    "        \n",
    "def meter():        \n",
    "    res=int(e1.get())*1000\n",
    "    myText.set(res)\n",
    "        \n",
    "window=Tk()\n",
    "myText=StringVar()\n",
    "window.title(\"Unit Conversion\")\n",
    "Label(window,text=\"Kilometer\").place(x=20,y=30)\n",
    "Label(window,text=\"convert\").place(x=20,y=80)\n",
    "\n",
    "result=Entry(window, text=\"\", textvariable=myText).place(x=80,y=80)\n",
    "\n",
    "\n",
    "e1=Entry(window)\n",
    "\n",
    "\n",
    "e1.place(x=80,y=30)\n",
    "\n",
    "\n",
    "b=Button(window,text=\"miles\",command=miles).place(x=60,y=130)\n",
    "b=Button(window,text=\"meter\",command=meter).place(x=120,y=130)\n",
    "\n",
    "window.mainloop()"
   ]
  },
  {
   "cell_type": "markdown",
   "id": "f2491ad9",
   "metadata": {},
   "source": [
    "# Meter to centimeter"
   ]
  },
  {
   "cell_type": "code",
   "execution_count": 9,
   "id": "c0a18113",
   "metadata": {},
   "outputs": [],
   "source": [
    "from tkinter import *\n",
    "\n",
    "def convert():\n",
    "    res=int(e1.get())*100\n",
    "    myText.set(res)\n",
    "            \n",
    "window=Tk()\n",
    "myText=StringVar()\n",
    "window.title(\"Unit Conversion\")\n",
    "Label(window,text=\"meter\").place(x=20,y=30)\n",
    "Label(window,text=\"centimeter\").place(x=20,y=80)\n",
    "\n",
    "result=Entry(window, text=\"\", textvariable=myText).place(x=100,y=80)\n",
    "\n",
    "\n",
    "e1=Entry(window)\n",
    "\n",
    "\n",
    "e1.place(x=100,y=30)\n",
    "\n",
    "\n",
    "b=Button(window,text=\"convert\",command=convert).place(x=60,y=130)\n",
    "\n",
    "\n",
    "window.mainloop()"
   ]
  },
  {
   "cell_type": "markdown",
   "id": "7a5de55b",
   "metadata": {},
   "source": [
    "# kilogram to gram"
   ]
  },
  {
   "cell_type": "code",
   "execution_count": 6,
   "id": "2522e979",
   "metadata": {},
   "outputs": [],
   "source": [
    "from tkinter import *\n",
    "\n",
    "def convert():\n",
    "    res=int(e1.get())*1000\n",
    "    myText.set(res)\n",
    "            \n",
    "window=Tk()\n",
    "myText=StringVar()\n",
    "window.title(\"Unit Conversion\")\n",
    "Label(window,text=\"kilogram\").place(x=20,y=30)\n",
    "Label(window,text=\"gram\").place(x=20,y=80)\n",
    "\n",
    "result=Entry(window, text=\"\", textvariable=myText).place(x=100,y=80)\n",
    "\n",
    "\n",
    "e1=Entry(window)\n",
    "\n",
    "\n",
    "e1.place(x=100,y=30)\n",
    "\n",
    "\n",
    "b=Button(window,text=\"convert\",command=convert).place(x=60,y=130)\n",
    "\n",
    "\n",
    "window.mainloop()       "
   ]
  },
  {
   "cell_type": "markdown",
   "id": "8d4ee983",
   "metadata": {},
   "source": [
    "# kilogram to pound"
   ]
  },
  {
   "cell_type": "code",
   "execution_count": 7,
   "id": "ab2a7b8b",
   "metadata": {},
   "outputs": [],
   "source": [
    "from tkinter import *\n",
    "\n",
    "def convert():\n",
    "    res=int(e1.get())*2.2046244202\n",
    "    myText.set(res)\n",
    "            \n",
    "window=Tk()\n",
    "myText=StringVar()\n",
    "window.title(\"Unit Conversion\")\n",
    "Label(window,text=\"kilogram\").place(x=20,y=30)\n",
    "Label(window,text=\"pound\").place(x=20,y=80)\n",
    "\n",
    "result=Entry(window, text=\"\", textvariable=myText).place(x=100,y=80)\n",
    "\n",
    "\n",
    "e1=Entry(window)\n",
    "\n",
    "\n",
    "e1.place(x=100,y=30)\n",
    "\n",
    "\n",
    "b=Button(window,text=\"convert\",command=convert).place(x=60,y=130)\n",
    "\n",
    "\n",
    "window.mainloop()       "
   ]
  }
 ],
 "metadata": {
  "kernelspec": {
   "display_name": "Python 3 (ipykernel)",
   "language": "python",
   "name": "python3"
  },
  "language_info": {
   "codemirror_mode": {
    "name": "ipython",
    "version": 3
   },
   "file_extension": ".py",
   "mimetype": "text/x-python",
   "name": "python",
   "nbconvert_exporter": "python",
   "pygments_lexer": "ipython3",
   "version": "3.9.7"
  }
 },
 "nbformat": 4,
 "nbformat_minor": 5
}
