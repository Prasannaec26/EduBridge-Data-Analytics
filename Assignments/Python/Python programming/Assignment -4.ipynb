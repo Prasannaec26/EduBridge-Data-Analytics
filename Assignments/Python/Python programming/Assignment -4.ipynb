{
 "cells": [
  {
   "cell_type": "markdown",
   "id": "8b03052a",
   "metadata": {},
   "source": [
    "# 1.Calculate square  of all numbers between 0-10 using list comprehensions"
   ]
  },
  {
   "cell_type": "code",
   "execution_count": 13,
   "id": "fbeaa206",
   "metadata": {},
   "outputs": [],
   "source": [
    "squares = []\n",
    "for i in range(10):\n",
    "    squares.append(i**2)\n",
    "    \n"
   ]
  },
  {
   "cell_type": "code",
   "execution_count": 16,
   "id": "29ce7661",
   "metadata": {},
   "outputs": [
    {
     "data": {
      "text/plain": [
       "[0, 1, 4, 9, 16, 25, 36, 49, 64, 81]"
      ]
     },
     "execution_count": 16,
     "metadata": {},
     "output_type": "execute_result"
    }
   ],
   "source": [
    "squares"
   ]
  },
  {
   "cell_type": "markdown",
   "id": "da89e581",
   "metadata": {},
   "source": [
    "# 2.multiply whole list by 10"
   ]
  },
  {
   "cell_type": "code",
   "execution_count": 17,
   "id": "53df3321",
   "metadata": {},
   "outputs": [
    {
     "name": "stdout",
     "output_type": "stream",
     "text": [
      "[10, 20, 30, 40, 50]\n"
     ]
    }
   ],
   "source": [
    "my_list=[1,2,3,4,5]\n",
    "my_new_list=[i*10 for i in my_list]\n",
    "print(my_new_list)"
   ]
  },
  {
   "cell_type": "markdown",
   "id": "b83baf2c",
   "metadata": {},
   "source": [
    "# 3.extract numbers from a string using list comprehension"
   ]
  },
  {
   "cell_type": "code",
   "execution_count": 27,
   "id": "98359bd4",
   "metadata": {},
   "outputs": [
    {
     "data": {
      "text/plain": [
       "['1', '2', '3']"
      ]
     },
     "execution_count": 27,
     "metadata": {},
     "output_type": "execute_result"
    }
   ],
   "source": [
    "m=[\"123\",\"148\"]\n",
    "my=[i for i in m[0]]\n",
    "my"
   ]
  },
  {
   "cell_type": "markdown",
   "id": "837fbab9",
   "metadata": {},
   "source": [
    "# 4.Write the program to remove the duplicate element of the list."
   ]
  },
  {
   "cell_type": "code",
   "execution_count": 31,
   "id": "2ba16da3",
   "metadata": {},
   "outputs": [
    {
     "name": "stdout",
     "output_type": "stream",
     "text": [
      "[10, 20, 30, 50, 60, 40, 80]\n"
     ]
    }
   ],
   "source": [
    "a = [10,20,30,20,10,50,60,40,80,50,40]\n",
    "\n",
    "dup_items = set()\n",
    "uniq_items = []\n",
    "for x in a:\n",
    "    if x not in dup_items:\n",
    "        uniq_items.append(x)\n",
    "        dup_items.add(x)\n",
    "\n",
    "print(uniq_items)"
   ]
  },
  {
   "cell_type": "code",
   "execution_count": 32,
   "id": "ded3c1f7",
   "metadata": {},
   "outputs": [
    {
     "data": {
      "text/plain": [
       "[10, 20, 30, 40, 50, 60, 80]"
      ]
     },
     "execution_count": 32,
     "metadata": {},
     "output_type": "execute_result"
    }
   ],
   "source": [
    "sorted(uniq_items)"
   ]
  },
  {
   "cell_type": "markdown",
   "id": "87f2eaea",
   "metadata": {},
   "source": [
    "# 5.Write a program to find the sum of the element in the list."
   ]
  },
  {
   "cell_type": "code",
   "execution_count": 40,
   "id": "4694f47b",
   "metadata": {},
   "outputs": [
    {
     "name": "stdout",
     "output_type": "stream",
     "text": [
      "Sum of all elements in given list:  74\n"
     ]
    }
   ],
   "source": [
    "total = 0\n",
    " \n",
    "list1 = [11, 5, 17, 18, 23]\n",
    "for i in range(0, len(list1)):\n",
    "    total = total + list1[i]\n",
    "print(\"Sum of all elements in given list: \", total)"
   ]
  },
  {
   "cell_type": "markdown",
   "id": "f0967118",
   "metadata": {},
   "source": [
    "# 6.Write the program to find the lists consist of at least one common element."
   ]
  },
  {
   "cell_type": "code",
   "execution_count": 45,
   "id": "b1c0e914",
   "metadata": {},
   "outputs": [],
   "source": [
    "list1 = [1, 2]\n",
    "list2 = [1, 3]\n",
    "list1_as_set = set(list1)\n",
    "intersection = list1_as_set. intersection(list2)"
   ]
  },
  {
   "cell_type": "code",
   "execution_count": 47,
   "id": "300cf195",
   "metadata": {},
   "outputs": [
    {
     "data": {
      "text/plain": [
       "{1}"
      ]
     },
     "execution_count": 47,
     "metadata": {},
     "output_type": "execute_result"
    }
   ],
   "source": [
    "intersection"
   ]
  }
 ],
 "metadata": {
  "kernelspec": {
   "display_name": "Python 3 (ipykernel)",
   "language": "python",
   "name": "python3"
  },
  "language_info": {
   "codemirror_mode": {
    "name": "ipython",
    "version": 3
   },
   "file_extension": ".py",
   "mimetype": "text/x-python",
   "name": "python",
   "nbconvert_exporter": "python",
   "pygments_lexer": "ipython3",
   "version": "3.9.7"
  }
 },
 "nbformat": 4,
 "nbformat_minor": 5
}
