{
 "cells": [
  {
   "cell_type": "code",
   "execution_count": 1,
   "id": "3df1c5a9",
   "metadata": {},
   "outputs": [],
   "source": [
    "from tkinter import *"
   ]
  },
  {
   "cell_type": "code",
   "execution_count": 2,
   "id": "91fa00d2",
   "metadata": {},
   "outputs": [],
   "source": [
    "window=Tk()\n",
    "window.mainloop()"
   ]
  },
  {
   "cell_type": "code",
   "execution_count": 3,
   "id": "5d98c862",
   "metadata": {},
   "outputs": [],
   "source": [
    "window=Tk()\n",
    "window.title(\"Simple Calculator\")\n",
    "l=Label(window,text=\"Calculator\",fg='white',bg='grey',font=('Times New Roman',20),width=24)\n",
    "t=Entry(window,width=48).place(x=540,y=50)\n",
    "b=Button(window,text=\"C\",fg='white',bg='grey',font=('Times New Roman',10,),width=6).place(x=540,y=120)\n",
    "b=Button(window,text=\"DEL\",fg='white',bg='grey',font=('Times New Roman',10),width=6).place(x=620,y=120)\n",
    "b=Button(window,text=\"%\",fg='white',bg='grey',font=('Times New Roman',10),width=6).place(x=700,y=120)\n",
    "b=Button(window,text=\"/\",fg='white',bg='grey',font=('Times New Roman',10),width=6).place(x=780,y=120)\n",
    "b=Button(window,text=\"7\",fg='black',bg='white',font=('Times New Roman',10),width=6).place(x=540,y=160)\n",
    "b=Button(window,text=\"8\",fg='black',bg='white',font=('Times New Roman',10),width=6).place(x=620,y=160)\n",
    "b=Button(window,text=\"9\",fg='black',bg='white',font=('Times New Roman',10),width=6).place(x=700,y=160)\n",
    "b=Button(window,text=\"X\",fg='white',bg='grey',font=('Times New Roman',10),width=6).place(x=780,y=160)\n",
    "b=Button(window,text=\"4\",fg='black',bg='white',font=('Times New Roman',10),width=6).place(x=540,y=200)\n",
    "b=Button(window,text=\"5\",fg='black',bg='white',font=('Times New Roman',10),width=6).place(x=620,y=200)\n",
    "b=Button(window,text=\"6\",fg='black',bg='white',font=('Times New Roman',10),width=6).place(x=700,y=200)\n",
    "b=Button(window,text=\"-\",fg='white',bg='grey',font=('Times New Roman',10),width=6).place(x=780,y=200)\n",
    "b=Button(window,text=\"1\",fg='black',bg='white',font=('Times New Roman',10),width=6).place(x=540,y=240)\n",
    "b=Button(window,text=\"2\",fg='black',bg='white',font=('Times New Roman',10),width=6).place(x=620,y=240)\n",
    "b=Button(window,text=\"3\",fg='black',bg='white',font=('Times New Roman',10),width=6).place(x=700,y=240)\n",
    "b=Button(window,text=\"+\",fg='white',bg='grey',font=('Times New Roman',10),width=6).place(x=780,y=240)\n",
    "b=Button(window,text=\",\",fg='black',bg='white',font=('Times New Roman',10),width=6).place(x=540,y=280)\n",
    "b=Button(window,text=\"0\",fg='black',bg='white',font=('Times New Roman',10),width=6).place(x=620,y=280)\n",
    "b=Button(window,text=\".\",fg='black',bg='white',font=('Times New Roman',10),width=6).place(x=700,y=280)\n",
    "b=Button(window,text=\"=\",fg='white',bg='grey',font=('Times New Roman',10),width=6).place(x=780,y=280)\n",
    "l.pack()\n",
    "window.mainloop()"
   ]
  },
  {
   "cell_type": "code",
   "execution_count": 4,
   "id": "52b292b9",
   "metadata": {},
   "outputs": [],
   "source": [
    "window=Tk()\n",
    "window.title(\"Simple Calculator\")\n",
    "l=Label(window,text=\"Calculator\",fg='white',bg='grey',font=('Times New Roman',20),width=24)\n",
    "t=Entry(window,width=48).place(x=540,y=50)\n",
    "b=Button(window,text=\"C\",fg='white',bg='grey',font=('Times New Roman',10,),width=6).place(x=540,y=120)\n",
    "b=Button(window,text=\"DEL\",fg='white',bg='grey',font=('Times New Roman',10),width=6).place(x=620,y=120)\n",
    "b=Button(window,text=\"%\",fg='white',bg='grey',font=('Times New Roman',10),width=6).place(x=700,y=120)\n",
    "b=Button(window,text=\"/\",fg='white',bg='grey',font=('Times New Roman',10),width=6).place(x=780,y=120)\n",
    "b=Button(window,text=\"7\",fg='black',bg='white',font=('Times New Roman',10),width=6).place(x=540,y=160)\n",
    "b=Button(window,text=\"8\",fg='black',bg='white',font=('Times New Roman',10),width=6).place(x=620,y=160)\n",
    "b=Button(window,text=\"9\",fg='black',bg='white',font=('Times New Roman',10),width=6).place(x=700,y=160)\n",
    "b=Button(window,text=\"X\",fg='white',bg='grey',font=('Times New Roman',10),width=6).place(x=780,y=160)\n",
    "b=Button(window,text=\"4\",fg='black',bg='white',font=('Times New Roman',10),width=6).place(x=540,y=200)\n",
    "b=Button(window,text=\"5\",fg='black',bg='white',font=('Times New Roman',10),width=6).place(x=620,y=200)\n",
    "b=Button(window,text=\"6\",fg='black',bg='white',font=('Times New Roman',10),width=6).place(x=700,y=200)\n",
    "b=Button(window,text=\"-\",fg='white',bg='grey',font=('Times New Roman',10),width=6).place(x=780,y=200)\n",
    "b=Button(window,text=\"1\",fg='black',bg='white',font=('Times New Roman',10),width=6).place(x=540,y=240)\n",
    "b=Button(window,text=\"2\",fg='black',bg='white',font=('Times New Roman',10),width=6).place(x=620,y=240)\n",
    "b=Button(window,text=\"3\",fg='black',bg='white',font=('Times New Roman',10),width=6).place(x=700,y=240)\n",
    "b=Button(window,text=\"+\",fg='white',bg='grey',font=('Times New Roman',10),width=6).place(x=780,y=240)\n",
    "b=Button(window,text=\"0\",fg='black',bg='white',font=('Times New Roman',10),width=17).place(x=540,y=280)\n",
    "b=Button(window,text=\".\",fg='black',bg='white',font=('Times New Roman',10),width=6).place(x=700,y=280)\n",
    "b=Button(window,text=\"=\",fg='white',bg='grey',font=('Times New Roman',10),width=6).place(x=780,y=280)\n",
    "l.pack()\n",
    "window.mainloop()"
   ]
  },
  {
   "cell_type": "code",
   "execution_count": null,
   "id": "646f2394",
   "metadata": {},
   "outputs": [],
   "source": []
  }
 ],
 "metadata": {
  "kernelspec": {
   "display_name": "Python 3 (ipykernel)",
   "language": "python",
   "name": "python3"
  },
  "language_info": {
   "codemirror_mode": {
    "name": "ipython",
    "version": 3
   },
   "file_extension": ".py",
   "mimetype": "text/x-python",
   "name": "python",
   "nbconvert_exporter": "python",
   "pygments_lexer": "ipython3",
   "version": "3.9.7"
  }
 },
 "nbformat": 4,
 "nbformat_minor": 5
}
