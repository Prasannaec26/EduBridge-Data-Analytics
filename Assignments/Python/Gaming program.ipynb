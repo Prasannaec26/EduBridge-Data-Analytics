{
 "cells": [
  {
   "cell_type": "code",
   "execution_count": 4,
   "id": "5b583e10",
   "metadata": {},
   "outputs": [
    {
     "name": "stdout",
     "output_type": "stream",
     "text": [
      "how are \n",
      " you today\n"
     ]
    }
   ],
   "source": [
    "print(\"how are \\n you today\")"
   ]
  },
  {
   "cell_type": "code",
   "execution_count": 5,
   "id": "94f6190b",
   "metadata": {},
   "outputs": [
    {
     "name": "stdout",
     "output_type": "stream",
     "text": [
      "how are \n",
      "\t you today\n"
     ]
    }
   ],
   "source": [
    "print(\"how are \\n\\t you today\")"
   ]
  },
  {
   "cell_type": "code",
   "execution_count": 6,
   "id": "7b28f04d",
   "metadata": {},
   "outputs": [
    {
     "name": "stdout",
     "output_type": "stream",
     "text": [
      "how's are you today\n"
     ]
    }
   ],
   "source": [
    "print('how\\'s are you today')"
   ]
  },
  {
   "cell_type": "code",
   "execution_count": 7,
   "id": "8ab21d24",
   "metadata": {},
   "outputs": [
    {
     "name": "stdout",
     "output_type": "stream",
     "text": [
      "how's are you today\n"
     ]
    }
   ],
   "source": [
    "print(\"how's are you today\")"
   ]
  },
  {
   "cell_type": "code",
   "execution_count": 26,
   "id": "347d34ca",
   "metadata": {},
   "outputs": [
    {
     "name": "stdout",
     "output_type": "stream",
     "text": [
      "one two three four "
     ]
    }
   ],
   "source": [
    "print('one',end=' ')\n",
    "print('two',end=' ')\n",
    "print('three',end=' ')\n",
    "print('four',end=' ')"
   ]
  },
  {
   "cell_type": "code",
   "execution_count": 78,
   "id": "f3d6c5c2",
   "metadata": {},
   "outputs": [
    {
     "name": "stdout",
     "output_type": "stream",
     "text": [
      "one, 'two', \"three\", four, \\five\\ \n",
      "once, 'I' caught a fish '//alive\\\\'\n"
     ]
    }
   ],
   "source": [
    " print('one,',\"'two',\",'\"three\",','four,',\"\\\\five\\\\\",'\\nonce,',\"'I'\",'caught a fish',\"'//alive\\\\\\\\'\")"
   ]
  },
  {
   "cell_type": "markdown",
   "id": "737b5a1d",
   "metadata": {},
   "source": [
    "# game program"
   ]
  },
  {
   "cell_type": "code",
   "execution_count": null,
   "id": "ddb19b3b",
   "metadata": {},
   "outputs": [
    {
     "name": "stdout",
     "output_type": "stream",
     "text": [
      "Welcome to AskPython Quiz\n"
     ]
    }
   ],
   "source": [
    "print('Welcome to AskPython Quiz')\n",
    "answer=input('Are you ready to play the Quiz ? (yes/no) :')\n",
    "score=0\n",
    "total_questions=3\n",
    " \n",
    "if answer.lower()=='yes':\n",
    "    answer=input('Question 1: What is your Favourite programming language?')\n",
    "    if answer.lower()=='python':\n",
    "        score += 1\n",
    "        print('correct')\n",
    "    else:\n",
    "        print('Wrong Answer :(')\n",
    " \n",
    " \n",
    "    answer=input('Question 2: Do you follow any author on AskPython? ')\n",
    "    if answer.lower()=='yes':\n",
    "        score += 1\n",
    "        print('correct')\n",
    "    else:\n",
    "        print('Wrong Answer :(')\n",
    " \n",
    "    answer=input('Question 3: What is the name of your favourite website for learning Python?')\n",
    "    if answer.lower()=='askpython':\n",
    "        score += 1\n",
    "        print('correct')\n",
    "    else:\n",
    "        print('Wrong Answer :(')\n",
    " \n",
    "print('Thankyou for Playing this small quiz game, you attempted',score,\"questions correctly!\")\n",
    "mark=(score/total_questions)*100\n",
    "print('Marks obtained:',mark)\n",
    "print('BYE!')"
   ]
  },
  {
   "cell_type": "code",
   "execution_count": null,
   "id": "09b8fb3b",
   "metadata": {},
   "outputs": [],
   "source": []
  }
 ],
 "metadata": {
  "kernelspec": {
   "display_name": "Python 3 (ipykernel)",
   "language": "python",
   "name": "python3"
  },
  "language_info": {
   "codemirror_mode": {
    "name": "ipython",
    "version": 3
   },
   "file_extension": ".py",
   "mimetype": "text/x-python",
   "name": "python",
   "nbconvert_exporter": "python",
   "pygments_lexer": "ipython3",
   "version": "3.9.7"
  }
 },
 "nbformat": 4,
 "nbformat_minor": 5
}
